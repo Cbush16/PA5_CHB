{
 "cells": [
  {
   "cell_type": "markdown",
   "id": "e32c8c48-691b-4910-b07c-f9b984e66db0",
   "metadata": {},
   "source": [
    "# Programming Assignment 5\n",
    "---\n",
    "**Author:** Caleb Bush*\n",
    "**Version:** 1.0  \n",
    "**Semester:** Spring 2024 \n",
    "\n",
    "This *notebook* contains my solution(s) to **Programming Assignment 5**"
   ]
  },
  {
   "cell_type": "markdown",
   "id": "b57f6451-28e3-46ac-9133-dab3105c19f9",
   "metadata": {},
   "source": [
    "### Problem 1 – Language Translator"
   ]
  },
  {
   "cell_type": "code",
   "execution_count": 14,
   "id": "819e10a9-db97-4877-8c61-bed6a3cd8ba7",
   "metadata": {
    "tags": []
   },
   "outputs": [],
   "source": [
    "import numpy as np\n",
    "import random"
   ]
  },
  {
   "cell_type": "code",
   "execution_count": 6,
   "id": "ef311eb9-a500-4758-9e5a-d66fc6ccb88c",
   "metadata": {
    "tags": []
   },
   "outputs": [
    {
     "name": "stdin",
     "output_type": "stream",
     "text": [
      "Enter a word to translate from English to German (enter Q to stop): here\n"
     ]
    },
    {
     "name": "stdout",
     "output_type": "stream",
     "text": [
      "The German word for HERE is HIER.\n"
     ]
    },
    {
     "name": "stdin",
     "output_type": "stream",
     "text": [
      "Enter a word to translate from English to German (enter Q to stop): the\n"
     ]
    },
    {
     "name": "stdout",
     "output_type": "stream",
     "text": [
      "The German word for THE is not in the dictionary.\n"
     ]
    },
    {
     "name": "stdin",
     "output_type": "stream",
     "text": [
      "Enter a word to translate from English to German (enter Q to stop): Q\n"
     ]
    }
   ],
   "source": [
    "EngtoGer = {\"myself\":\"mich\",\n",
    "            \"yourself\":\"dich\",\n",
    "            \"our\":\"unser\",\n",
    "            \"long\":\"lang\",\n",
    "            \"large\":\"groß\",\n",
    "            \"small\":\"klein\",\n",
    "            \"how\":\"wie\",\n",
    "            \"where\":\"wo\",\n",
    "            \"what\":\"was\",\n",
    "            \"no\":\"nein\",\n",
    "            \"not\":\"nicht\",\n",
    "            \"here\":\"hier\",\n",
    "            \"there\":\"da\",\n",
    "            \"because\":\"weil\",\n",
    "            \"between\":\"zwischen\",\n",
    "            \"under\":\"unter\",\n",
    "            \"with\":\"mit\",\n",
    "            \"already\":\"schon\",\n",
    "            \"then\":\"dann\",\n",
    "            \"we\":\"wir\"\n",
    "           }\n",
    "prompt = input(\"Enter a word to translate from English to German (enter Q to stop):\")\n",
    "while prompt!=\"Q\":\n",
    "    prompt_upper=prompt.upper()\n",
    "    if prompt in EngtoGer:\n",
    "        translation = EngtoGer[prompt]\n",
    "        print(f'The German word for {prompt.upper()} is {translation.upper()}.')\n",
    "    else:\n",
    "        print(f'The German word for {prompt.upper()} is not in the dictionary.')\n",
    "    prompt = input(\"Enter a word to translate from English to German (enter Q to stop):\")"
   ]
  },
  {
   "cell_type": "markdown",
   "id": "29383007-a46f-4fd6-b3d1-eb6c2d4ef78a",
   "metadata": {},
   "source": [
    "### Problem 2 – Translating Morse Code"
   ]
  },
  {
   "cell_type": "code",
   "execution_count": 1,
   "id": "aaad3943-4ed5-4ba0-bb34-16ca87c282a9",
   "metadata": {
    "tags": []
   },
   "outputs": [
    {
     "name": "stdin",
     "output_type": "stream",
     "text": [
      "Enter a message to translate to Morse Code (enter lowercase 'q' to quit):  Hello there\n"
     ]
    },
    {
     "name": "stdout",
     "output_type": "stream",
     "text": [
      "Morse Code translation: .... . .-.. .-.. --- / - .... . .-. .\n"
     ]
    },
    {
     "name": "stdin",
     "output_type": "stream",
     "text": [
      "Enter a message to translate to Morse Code (enter lowercase 'q' to quit):  q\n"
     ]
    }
   ],
   "source": [
    "morsecode_dict = {\n",
    "    'A': '.-', 'B': '-...', 'C': '-.-.', 'D': '-..', 'E': '.', 'F': '..-.', 'G': '--.', 'H': '....', \n",
    "    'I': '..', 'J': '.---', 'K': '-.-', 'L': '.-..', 'M': '--', 'N': '-.', 'O': '---', 'P': '.--.', \n",
    "    'Q': '--.-', 'R': '.-.', 'S': '...', 'T': '-', 'U': '..-', 'V': '...-', 'W': '.--', 'X': '-..-', \n",
    "    'Y': '-.--', 'Z': '--..',\n",
    "    '0': '-----', '1': '.----', '2': '..---', '3': '...--', '4': '....-', '5': '.....', \n",
    "    '6': '-....', '7': '--...', '8': '---..', '9': '----.'\n",
    "}\n",
    "\n",
    "sentence = input(\"Enter a message to translate to Morse Code (enter lowercase 'q' to quit): \")\n",
    "while sentence != \"q\":\n",
    "    translation = ''\n",
    "    for char in sentence.upper():\n",
    "        if char in morsecode_dict:\n",
    "            translation += morsecode_dict[char] + ' '\n",
    "        elif char == ' ':\n",
    "            translation += '/ ' \n",
    "    \n",
    "    print(\"Morse Code translation:\", translation.strip())\n",
    "    \n",
    "    sentence = input(\"Enter a message to translate to Morse Code (enter lowercase 'q' to quit): \")\n",
    "    "
   ]
  },
  {
   "cell_type": "markdown",
   "id": "45f853f2-cf67-45c6-8f38-db555be4e7af",
   "metadata": {},
   "source": [
    "###  Problem 3 – Comparing Minors/Majors"
   ]
  },
  {
   "cell_type": "code",
   "execution_count": 13,
   "id": "02ece019-a740-4586-a1bf-2036e95e82c3",
   "metadata": {
    "tags": []
   },
   "outputs": [
    {
     "name": "stdout",
     "output_type": "stream",
     "text": [
      "i. The overlap in courses for the two minors are: {'BUSA103'}.\n",
      "ii. The classes needed for minoring in both are: {'BUSA203', 'CS131', 'BUSA301', 'CS130', 'BUSA305', 'BUSA103', 'CS215'}.\n",
      "iii. The classes that are in the Business Admin minor but not in the Business Analytics minor are: {'BUSA301', 'BUSA305', 'BUSA203'}\n",
      "True\n",
      "True\n"
     ]
    }
   ],
   "source": [
    "data_sci = {'BUSA103','BUSA245','BUSA346','CS150','DS160','DS300','DS450','MATH205','MATH215','MATH430','ECON410'}\n",
    "analytics = {'BUSA103','BUSA245','BUSA346','CS150','DS160','DS300'}\n",
    "com_sci = {'CS130','CS131','CS215'}\n",
    "admin = {'BUSA103','BUSA203','BUSA301','BUSA305'}\n",
    "\n",
    "i = analytics.intersection(admin)\n",
    "print(f'i. The overlap in courses for the two minors are: {i}.')\n",
    "\n",
    "ii = admin.union(com_sci)\n",
    "print(f'ii. The classes needed for minoring in both are: {ii}.')\n",
    "\n",
    "iii = admin-analytics\n",
    "print(f'iii. The classes that are in the Business Admin minor but not in the Business Analytics minor are: {iii}')\n",
    "\n",
    "iv = com_sci.isdisjoint(data_sci)\n",
    "print(iv)\n",
    "\n",
    "v = analytics.issubset(data_sci)\n",
    "print(v)"
   ]
  },
  {
   "cell_type": "markdown",
   "id": "6e037824-af8e-4e3d-90f6-880a78129bf5",
   "metadata": {},
   "source": [
    "### Problem 4 – Working with NumPy"
   ]
  },
  {
   "cell_type": "code",
   "execution_count": null,
   "id": "125a8a4e-dd7c-4715-9835-0c40c2225bbd",
   "metadata": {},
   "outputs": [],
   "source": [
    "num1 = np.random.randint(0,21, size=(5,5))\n",
    "num2 = np.random.randint(0,21, size=(5,5))"
   ]
  },
  {
   "cell_type": "code",
   "execution_count": 18,
   "id": "4178c0b9-d47c-4231-bc9d-2ea0e6bcd6d9",
   "metadata": {
    "tags": []
   },
   "outputs": [
    {
     "data": {
      "text/plain": [
       "array([[ 6,  8, 18, 17, 12],\n",
       "       [10,  1,  5, 16, 10],\n",
       "       [ 9, 10,  4, 19, 13],\n",
       "       [ 8,  6, 19, 20,  2],\n",
       "       [14, 18,  6,  6,  4]])"
      ]
     },
     "execution_count": 18,
     "metadata": {},
     "output_type": "execute_result"
    }
   ],
   "source": [
    "num1"
   ]
  },
  {
   "cell_type": "code",
   "execution_count": 19,
   "id": "9ca2b7bc-52e3-45a3-88f9-b6a1f188dd4d",
   "metadata": {
    "tags": []
   },
   "outputs": [
    {
     "data": {
      "text/plain": [
       "array([[14,  7, 20,  8,  5],\n",
       "       [10, 12,  6, 11,  7],\n",
       "       [ 8,  2, 15, 19,  1],\n",
       "       [13,  7,  7, 16, 13],\n",
       "       [16,  4, 10,  2, 10]])"
      ]
     },
     "execution_count": 19,
     "metadata": {},
     "output_type": "execute_result"
    }
   ],
   "source": [
    "num2"
   ]
  },
  {
   "cell_type": "code",
   "execution_count": 25,
   "id": "c0100424-4de3-4958-8b44-21aa2d0212dc",
   "metadata": {
    "tags": []
   },
   "outputs": [
    {
     "name": "stdout",
     "output_type": "stream",
     "text": [
      "The matrix product is: [[721 341 677 774 445]\n",
      " [558 244 493 462 370]\n",
      " [713 376 563 588 496]\n",
      " [616 314 641 815 381]\n",
      " [566 384 560 528 320]]\n",
      "The dot product is: 2643\n"
     ]
    }
   ],
   "source": [
    "m_product = np.matmul(num1,num2)\n",
    "print(f'The matrix product is: {m_product}')\n",
    "d_product = np.dot(num1.flatten(),num2.flatten())\n",
    "print(f'The dot product is: {d_product}')"
   ]
  },
  {
   "cell_type": "code",
   "execution_count": 26,
   "id": "45c69bc6-2cb4-4dd6-957c-3fc276eda33d",
   "metadata": {
    "tags": []
   },
   "outputs": [
    {
     "name": "stdout",
     "output_type": "stream",
     "text": [
      "The determinate for num1 is: -405197.9999999996\n",
      "The inverse for num1 is: [[-0.02131797  0.12414178 -0.09170825 -0.01125376  0.05727817]\n",
      " [-0.00376112 -0.09641212  0.06995099  0.00750744  0.02121926]\n",
      " [ 0.06388975  0.01044428 -0.07013855  0.00108095  0.00962986]\n",
      " [-0.05954126 -0.03414627  0.08375165  0.05979299 -0.03809989]\n",
      " [ 0.08501523  0.03491133 -0.01422021 -0.08570625 -0.0032552 ]]\n",
      "The determinate for num2 is: -122116.00000000004\n",
      "The inverse for num2 is: [[-1.97942940e-01  1.18280979e-01  1.42716761e-01 -1.81565069e-01\n",
      "   2.37937699e-01]\n",
      " [ 4.51701661e-02  9.72845491e-02 -5.08532870e-02 -2.19463461e-02\n",
      "  -5.70686888e-02]\n",
      " [ 1.55000164e-01 -8.74905827e-02 -6.79026499e-02  7.69759900e-02\n",
      "  -1.09535196e-01]\n",
      " [-5.18850929e-02  1.66071604e-02  5.95008025e-02  6.35461365e-03\n",
      "   1.06456156e-04]\n",
      " [ 1.54017492e-01 -1.43994235e-01 -1.52003014e-01  2.21035737e-01\n",
      "  -1.48358937e-01]]\n"
     ]
    }
   ],
   "source": [
    "det_num1 = np.linalg.det(num1)\n",
    "print(f'The determinate for num1 is: {det_num1}')\n",
    "inv_num1 = np.linalg.inv(num1)\n",
    "print(f'The inverse for num1 is: {inv_num1}')\n",
    "det_num2 = np.linalg.det(num2)\n",
    "print(f'The determinate for num2 is: {det_num2}')\n",
    "inv_num2 = np.linalg.inv(num2)\n",
    "print(f'The inverse for num2 is: {inv_num2}')"
   ]
  },
  {
   "cell_type": "code",
   "execution_count": 27,
   "id": "9e6d5034-c6c6-499a-9c5b-6ebd38238e6f",
   "metadata": {
    "tags": []
   },
   "outputs": [],
   "source": [
    "ID1 = np.linspace(0, 1, 20)\n",
    "ID2 = np.linspace(1, 2, 20)"
   ]
  },
  {
   "cell_type": "code",
   "execution_count": 28,
   "id": "bfd413b9-c77d-454b-8a35-8a090979b9aa",
   "metadata": {
    "tags": []
   },
   "outputs": [
    {
     "data": {
      "text/plain": [
       "array([0.        , 0.05263158, 0.10526316, 0.15789474, 0.21052632,\n",
       "       0.26315789, 0.31578947, 0.36842105, 0.42105263, 0.47368421,\n",
       "       0.52631579, 0.57894737, 0.63157895, 0.68421053, 0.73684211,\n",
       "       0.78947368, 0.84210526, 0.89473684, 0.94736842, 1.        ])"
      ]
     },
     "execution_count": 28,
     "metadata": {},
     "output_type": "execute_result"
    }
   ],
   "source": [
    "ID1"
   ]
  },
  {
   "cell_type": "code",
   "execution_count": 29,
   "id": "286cc964-68f2-4641-aab9-67eed51b9a91",
   "metadata": {
    "tags": []
   },
   "outputs": [
    {
     "data": {
      "text/plain": [
       "array([1.        , 1.05263158, 1.10526316, 1.15789474, 1.21052632,\n",
       "       1.26315789, 1.31578947, 1.36842105, 1.42105263, 1.47368421,\n",
       "       1.52631579, 1.57894737, 1.63157895, 1.68421053, 1.73684211,\n",
       "       1.78947368, 1.84210526, 1.89473684, 1.94736842, 2.        ])"
      ]
     },
     "execution_count": 29,
     "metadata": {},
     "output_type": "execute_result"
    }
   ],
   "source": [
    "ID2"
   ]
  },
  {
   "cell_type": "code",
   "execution_count": 34,
   "id": "df874d34-ce43-4c14-b381-e80c4a979212",
   "metadata": {
    "tags": []
   },
   "outputs": [
    {
     "name": "stdout",
     "output_type": "stream",
     "text": [
      "Combined Array: [0.         0.05263158 0.10526316 0.15789474 0.21052632 0.26315789\n",
      " 0.31578947 0.36842105 0.42105263 0.47368421 0.52631579 0.57894737\n",
      " 0.63157895 0.68421053 0.73684211 0.78947368 0.84210526 0.89473684\n",
      " 0.94736842 1.         1.         1.05263158 1.10526316 1.15789474\n",
      " 1.21052632 1.26315789 1.31578947 1.36842105 1.42105263 1.47368421\n",
      " 1.52631579 1.57894737 1.63157895 1.68421053 1.73684211 1.78947368\n",
      " 1.84210526 1.89473684 1.94736842 2.        ]\n",
      "Reshaped Array: [[0.         0.05263158 0.10526316 0.15789474]\n",
      " [0.21052632 0.26315789 0.31578947 0.36842105]\n",
      " [0.42105263 0.47368421 0.52631579 0.57894737]\n",
      " [0.63157895 0.68421053 0.73684211 0.78947368]\n",
      " [0.84210526 0.89473684 0.94736842 1.        ]\n",
      " [1.         1.05263158 1.10526316 1.15789474]\n",
      " [1.21052632 1.26315789 1.31578947 1.36842105]\n",
      " [1.42105263 1.47368421 1.52631579 1.57894737]\n",
      " [1.63157895 1.68421053 1.73684211 1.78947368]\n",
      " [1.84210526 1.89473684 1.94736842 2.        ]]\n"
     ]
    }
   ],
   "source": [
    "combined_array = np.concatenate((ID1, ID2))\n",
    "print(f'Combined Array: {combined_array}')\n",
    "reshaped_array = combined_array.reshape(10, 4)\n",
    "print(f'Reshaped Array: {reshaped_array}')"
   ]
  }
 ],
 "metadata": {
  "kernelspec": {
   "display_name": "Python 3 (ipykernel)",
   "language": "python",
   "name": "python3"
  },
  "language_info": {
   "codemirror_mode": {
    "name": "ipython",
    "version": 3
   },
   "file_extension": ".py",
   "mimetype": "text/x-python",
   "name": "python",
   "nbconvert_exporter": "python",
   "pygments_lexer": "ipython3",
   "version": "3.11.5"
  }
 },
 "nbformat": 4,
 "nbformat_minor": 5
}
